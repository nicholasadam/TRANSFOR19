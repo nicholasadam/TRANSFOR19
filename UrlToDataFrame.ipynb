{
 "cells": [
  {
   "cell_type": "code",
   "execution_count": 38,
   "metadata": {},
   "outputs": [],
   "source": [
    "import pandas as pd\n",
    "import urllib\n",
    "import matplotlib.pyplot as plt"
   ]
  },
  {
   "cell_type": "code",
   "execution_count": 122,
   "metadata": {},
   "outputs": [
    {
     "data": {
      "text/plain": [
       "\"\\nfile = open('didi.txt','r') \\nurls=file.read().split()\\nfor i in range(len(urls)):\\n    print ('Now processing day '+str(i),end='\\r')\\n    urllib.request.urlretrieve(urls[i],'day_'+str(i)+'.gz')\\n\""
      ]
     },
     "execution_count": 122,
     "metadata": {},
     "output_type": "execute_result"
    }
   ],
   "source": [
    "\"\"\"\n",
    "file = open('didi.txt','r') \n",
    "urls=file.read().split()\n",
    "for i in range(len(urls)):\n",
    "    print ('Now processing day '+str(i),end='\\r')\n",
    "    urllib.request.urlretrieve(urls[i],'day_'+str(i)+'.gz')\n",
    "\"\"\""
   ]
  },
  {
   "cell_type": "code",
   "execution_count": 28,
   "metadata": {
    "scrolled": false
   },
   "outputs": [],
   "source": [
    "column_names = ['Driver_ID','Order_ID','Time_Stamp','Longitude','Latitude']\n",
    "df=pd.read_csv('./Nov/xian/gps_20161101',header=None, names=column_names)\n",
    "df=df.sort_values(by=['Driver_ID','Order_ID','Time_Stamp']).reset_index(drop=True)\n",
    "df.to_pickle('gps_20161101')"
   ]
  },
  {
   "cell_type": "code",
   "execution_count": 31,
   "metadata": {},
   "outputs": [
    {
     "data": {
      "text/html": [
       "<div>\n",
       "<style scoped>\n",
       "    .dataframe tbody tr th:only-of-type {\n",
       "        vertical-align: middle;\n",
       "    }\n",
       "\n",
       "    .dataframe tbody tr th {\n",
       "        vertical-align: top;\n",
       "    }\n",
       "\n",
       "    .dataframe thead th {\n",
       "        text-align: right;\n",
       "    }\n",
       "</style>\n",
       "<table border=\"1\" class=\"dataframe\">\n",
       "  <thead>\n",
       "    <tr style=\"text-align: right;\">\n",
       "      <th></th>\n",
       "      <th>Driver_ID</th>\n",
       "      <th>Order_ID</th>\n",
       "      <th>Time_Stamp</th>\n",
       "      <th>Longitude</th>\n",
       "      <th>Latitude</th>\n",
       "    </tr>\n",
       "  </thead>\n",
       "  <tbody>\n",
       "    <tr>\n",
       "      <th>13585295</th>\n",
       "      <td>0008f73a589698d4659f2d256225e803</td>\n",
       "      <td>4c592c5b0523d032aa294be31ec56fd3</td>\n",
       "      <td>1477992553</td>\n",
       "      <td>108.99812</td>\n",
       "      <td>34.25119</td>\n",
       "    </tr>\n",
       "    <tr>\n",
       "      <th>13585284</th>\n",
       "      <td>0008f73a589698d4659f2d256225e803</td>\n",
       "      <td>4c592c5b0523d032aa294be31ec56fd3</td>\n",
       "      <td>1477992556</td>\n",
       "      <td>108.99789</td>\n",
       "      <td>34.25119</td>\n",
       "    </tr>\n",
       "    <tr>\n",
       "      <th>13585294</th>\n",
       "      <td>0008f73a589698d4659f2d256225e803</td>\n",
       "      <td>4c592c5b0523d032aa294be31ec56fd3</td>\n",
       "      <td>1477992559</td>\n",
       "      <td>108.99762</td>\n",
       "      <td>34.25119</td>\n",
       "    </tr>\n",
       "    <tr>\n",
       "      <th>13585276</th>\n",
       "      <td>0008f73a589698d4659f2d256225e803</td>\n",
       "      <td>4c592c5b0523d032aa294be31ec56fd3</td>\n",
       "      <td>1477992562</td>\n",
       "      <td>108.99749</td>\n",
       "      <td>34.25119</td>\n",
       "    </tr>\n",
       "    <tr>\n",
       "      <th>13585279</th>\n",
       "      <td>0008f73a589698d4659f2d256225e803</td>\n",
       "      <td>4c592c5b0523d032aa294be31ec56fd3</td>\n",
       "      <td>1477992565</td>\n",
       "      <td>108.99748</td>\n",
       "      <td>34.25119</td>\n",
       "    </tr>\n",
       "  </tbody>\n",
       "</table>\n",
       "</div>"
      ],
      "text/plain": [
       "                                 Driver_ID                          Order_ID  \\\n",
       "13585295  0008f73a589698d4659f2d256225e803  4c592c5b0523d032aa294be31ec56fd3   \n",
       "13585284  0008f73a589698d4659f2d256225e803  4c592c5b0523d032aa294be31ec56fd3   \n",
       "13585294  0008f73a589698d4659f2d256225e803  4c592c5b0523d032aa294be31ec56fd3   \n",
       "13585276  0008f73a589698d4659f2d256225e803  4c592c5b0523d032aa294be31ec56fd3   \n",
       "13585279  0008f73a589698d4659f2d256225e803  4c592c5b0523d032aa294be31ec56fd3   \n",
       "\n",
       "          Time_Stamp  Longitude  Latitude  \n",
       "13585295  1477992553  108.99812  34.25119  \n",
       "13585284  1477992556  108.99789  34.25119  \n",
       "13585294  1477992559  108.99762  34.25119  \n",
       "13585276  1477992562  108.99749  34.25119  \n",
       "13585279  1477992565  108.99748  34.25119  "
      ]
     },
     "execution_count": 31,
     "metadata": {},
     "output_type": "execute_result"
    }
   ],
   "source": [
    "df.head()"
   ]
  },
  {
   "cell_type": "code",
   "execution_count": 40,
   "metadata": {},
   "outputs": [],
   "source": [
    "Lat_max,Long_max,Lat_min,Long_min=34.241, 108.943,34.234, 108.9415"
   ]
  },
  {
   "cell_type": "code",
   "execution_count": 57,
   "metadata": {},
   "outputs": [],
   "source": [
    "from matplotlib.patches import Rectangle"
   ]
  },
  {
   "cell_type": "code",
   "execution_count": 74,
   "metadata": {},
   "outputs": [],
   "source": [
    "import math"
   ]
  },
  {
   "cell_type": "code",
   "execution_count": 75,
   "metadata": {},
   "outputs": [],
   "source": [
    "x_pi = 3.14159265358979324 * 3000.0 / 180.0\n",
    "pi = 3.1415926535897932384626  # π\n",
    "a = 6378245.0  # 长半轴\n",
    "ee = 0.00669342162296594323  # 偏心率平方"
   ]
  },
  {
   "cell_type": "code",
   "execution_count": 79,
   "metadata": {},
   "outputs": [],
   "source": [
    "def _transformlat(lng, lat):\n",
    "    ret = -100.0 + 2.0 * lng + 3.0 * lat + 0.2 * lat * lat + \\\n",
    "          0.1 * lng * lat + 0.2 * math.sqrt(math.fabs(lng))\n",
    "    ret += (20.0 * math.sin(6.0 * lng * pi) + 20.0 *\n",
    "            math.sin(2.0 * lng * pi)) * 2.0 / 3.0\n",
    "    ret += (20.0 * math.sin(lat * pi) + 40.0 *\n",
    "            math.sin(lat / 3.0 * pi)) * 2.0 / 3.0\n",
    "    ret += (160.0 * math.sin(lat / 12.0 * pi) + 320 *\n",
    "            math.sin(lat * pi / 30.0)) * 2.0 / 3.0\n",
    "    return ret\n",
    "def _transformlng(lng, lat):\n",
    "    ret = 300.0 + lng + 2.0 * lat + 0.1 * lng * lng + \\\n",
    "          0.1 * lng * lat + 0.1 * math.sqrt(math.fabs(lng))\n",
    "    ret += (20.0 * math.sin(6.0 * lng * pi) + 20.0 *\n",
    "            math.sin(2.0 * lng * pi)) * 2.0 / 3.0\n",
    "    ret += (20.0 * math.sin(lng * pi) + 40.0 *\n",
    "            math.sin(lng / 3.0 * pi)) * 2.0 / 3.0\n",
    "    ret += (150.0 * math.sin(lng / 12.0 * pi) + 300.0 *\n",
    "            math.sin(lng / 30.0 * pi)) * 2.0 / 3.0\n",
    "    return ret"
   ]
  },
  {
   "cell_type": "code",
   "execution_count": 80,
   "metadata": {},
   "outputs": [],
   "source": [
    "def gcj02_to_wgs84(lng, lat):\n",
    "    \"\"\"\n",
    "    GCJ02(火星坐标系)转GPS84\n",
    "    :param lng:火星坐标系的经度\n",
    "    :param lat:火星坐标系纬度\n",
    "    :return:\n",
    "    \"\"\"\n",
    "    ##if out_of_china(lng, lat):\n",
    "    ##    return [lng, lat]\n",
    "    dlat = _transformlat(lng - 105.0, lat - 35.0)\n",
    "    dlng = _transformlng(lng - 105.0, lat - 35.0)\n",
    "    radlat = lat / 180.0 * pi\n",
    "    magic = math.sin(radlat)\n",
    "    magic = 1 - ee * magic * magic\n",
    "    sqrtmagic = math.sqrt(magic)\n",
    "    dlat = (dlat * 180.0) / ((a * (1 - ee)) / (magic * sqrtmagic) * pi)\n",
    "    dlng = (dlng * 180.0) / (a / sqrtmagic * math.cos(radlat) * pi)\n",
    "    mglat = lat + dlat\n",
    "    mglng = lng + dlng\n",
    "    return [lng * 2 - mglng, lat * 2 - mglat]"
   ]
  },
  {
   "cell_type": "code",
   "execution_count": 81,
   "metadata": {},
   "outputs": [
    {
     "data": {
      "text/plain": [
       "[108.94386460318398, 34.27876852779645]"
      ]
     },
     "execution_count": 81,
     "metadata": {},
     "output_type": "execute_result"
    }
   ],
   "source": [
    "gcj02_to_wgs84(df.loc[0,'Longitude'], df.loc[0,'Latitude'])"
   ]
  },
  {
   "cell_type": "code",
   "execution_count": 90,
   "metadata": {},
   "outputs": [],
   "source": [
    "df_WGS84=pd.DataFrame(df.apply(lambda x: gcj02_to_wgs84(x.Longitude, x.Latitude), axis=1),columns=['WGS84'])"
   ]
  },
  {
   "cell_type": "code",
   "execution_count": 117,
   "metadata": {},
   "outputs": [],
   "source": [
    "df_projected=pd.concat([df.loc[:,['Driver_ID','Order_ID','Time_Stamp']],\n",
    "                        pd.DataFrame(df_WGS84.WGS84.str[0]).rename(columns={'WGS84':'Longitude'}),\n",
    "                        pd.DataFrame(df_WGS84.WGS84.str[1]).rename(columns={'WGS84':'Latitude'})],axis=1)"
   ]
  },
  {
   "cell_type": "code",
   "execution_count": 118,
   "metadata": {},
   "outputs": [
    {
     "data": {
      "image/png": "[encoded data removed]",
      "text/plain": [
       "<Figure size 432x288 with 1 Axes>"
      ]
     },
     "metadata": {},
     "output_type": "display_data"
    }
   ],
   "source": [
    "x=df_projected.Longitude.tolist()\n",
    "y=df_projected.Latitude.tolist()\n",
    "fig, ax = plt.subplots()\n",
    "plt.plot(x,y,'g*',markersize=0.01)\n",
    "currentAxis = plt.gca()\n",
    "Lat_max,Long_max,Lat_min,Long_min\n",
    "currentAxis.add_patch(Rectangle((Long_min, Lat_min), Long_max-Long_min, Lat_max-Lat_min,\n",
    "                      fill=None))\n",
    "plt.show()"
   ]
  },
  {
   "cell_type": "code",
   "execution_count": 119,
   "metadata": {},
   "outputs": [],
   "source": [
    "df_section=df_projected[(Long_min<=df_projected.Longitude)&\n",
    "                        (df_projected.Longitude<=Long_max)&\n",
    "                        (Lat_min<=df_projected.Latitude)&\n",
    "                        (df_projected.Latitude<=Lat_max)]"
   ]
  },
  {
   "cell_type": "code",
   "execution_count": 120,
   "metadata": {},
   "outputs": [
    {
     "data": {
      "text/plain": [
       "[<matplotlib.lines.Line2D at 0x2e4378f60>]"
      ]
     },
     "execution_count": 120,
     "metadata": {},
     "output_type": "execute_result"
    },
    {
     "data": {
      "image/png": "[encoded data removed]",
      "text/plain": [
       "<Figure size 432x288 with 1 Axes>"
      ]
     },
     "metadata": {},
     "output_type": "display_data"
    }
   ],
   "source": [
    "x=df_section.Longitude.tolist()\n",
    "y=df_section.Latitude.tolist()\n",
    "fig, ax = plt.subplots()\n",
    "plt.plot(x,y,'g*')"
   ]
  },
  {
   "cell_type": "code",
   "execution_count": 13,
   "metadata": {},
   "outputs": [],
   "source": [
    "N=pd.read_csv('./Predictions/Predictions_north.csv')"
   ]
  },
  {
   "cell_type": "code",
   "execution_count": 19,
   "metadata": {},
   "outputs": [
    {
     "data": {
      "text/html": [
       "<div>\n",
       "<style scoped>\n",
       "    .dataframe tbody tr th:only-of-type {\n",
       "        vertical-align: middle;\n",
       "    }\n",
       "\n",
       "    .dataframe tbody tr th {\n",
       "        vertical-align: top;\n",
       "    }\n",
       "\n",
       "    .dataframe thead th {\n",
       "        text-align: right;\n",
       "    }\n",
       "</style>\n",
       "<table border=\"1\" class=\"dataframe\">\n",
       "  <thead>\n",
       "    <tr style=\"text-align: right;\">\n",
       "      <th></th>\n",
       "      <th>time</th>\n",
       "      <th>speed</th>\n",
       "    </tr>\n",
       "  </thead>\n",
       "  <tbody>\n",
       "    <tr>\n",
       "      <th>0</th>\n",
       "      <td>12:00:05 AM</td>\n",
       "      <td>39.94964499</td>\n",
       "    </tr>\n",
       "    <tr>\n",
       "      <th>1</th>\n",
       "      <td>12:05:05 AM</td>\n",
       "      <td>30.64750931</td>\n",
       "    </tr>\n",
       "    <tr>\n",
       "      <th>2</th>\n",
       "      <td>12:10:05 AM</td>\n",
       "      <td>40.85725973</td>\n",
       "    </tr>\n",
       "    <tr>\n",
       "      <th>3</th>\n",
       "      <td>12:15:05 AM</td>\n",
       "      <td>39.23681723</td>\n",
       "    </tr>\n",
       "    <tr>\n",
       "      <th>4</th>\n",
       "      <td>12:20:05 AM</td>\n",
       "      <td>40.75923301</td>\n",
       "    </tr>\n",
       "  </tbody>\n",
       "</table>\n",
       "</div>"
      ],
      "text/plain": [
       "          time        speed\n",
       "0  12:00:05 AM  39.94964499\n",
       "1  12:05:05 AM  30.64750931\n",
       "2  12:10:05 AM  40.85725973\n",
       "3  12:15:05 AM  39.23681723\n",
       "4  12:20:05 AM  40.75923301"
      ]
     },
     "execution_count": 19,
     "metadata": {},
     "output_type": "execute_result"
    }
   ],
   "source": [
    "N.head()"
   ]
  },
  {
   "cell_type": "code",
   "execution_count": 24,
   "metadata": {},
   "outputs": [
    {
     "data": {
      "text/plain": [
       "Driver_ID      object\n",
       "Order_ID       object\n",
       "Time_Stamp      int64\n",
       "Longitude     float64\n",
       "Latitude      float64\n",
       "dtype: object"
      ]
     },
     "execution_count": 24,
     "metadata": {},
     "output_type": "execute_result"
    }
   ],
   "source": [
    "df.dtypes"
   ]
  },
  {
   "cell_type": "code",
   "execution_count": null,
   "metadata": {},
   "outputs": [],
   "source": []
  },
  {
   "cell_type": "code",
   "execution_count": null,
   "metadata": {},
   "outputs": [],
   "source": []
  }
 ],
 "metadata": {
  "kernelspec": {
   "display_name": "Python 3",
   "language": "python",
   "name": "python3"
  },
  "language_info": {
   "codemirror_mode": {
    "name": "ipython",
    "version": 3
   },
   "file_extension": ".py",
   "mimetype": "text/x-python",
   "name": "python",
   "nbconvert_exporter": "python",
   "pygments_lexer": "ipython3",
   "version": "3.6.5"
  }
 },
 "nbformat": 4,
 "nbformat_minor": 2
}
